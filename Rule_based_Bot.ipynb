{
  "nbformat": 4,
  "nbformat_minor": 0,
  "metadata": {
    "colab": {
      "provenance": []
    },
    "kernelspec": {
      "name": "python3",
      "display_name": "Python 3"
    },
    "language_info": {
      "name": "python"
    }
  },
  "cells": [
    {
      "cell_type": "code",
      "execution_count": null,
      "metadata": {
        "id": "9DDAKMtNj5X6"
      },
      "outputs": [],
      "source": [
        "import re\n",
        "import random"
      ]
    },
    {
      "cell_type": "code",
      "source": [
        "class RuleBot:\n",
        "    negative_responses = (\"no\", \"nope\", \"nah\", \"naw\", \"not a chance\", \"sorry\")\n",
        "    exit_commands = (\"quit\", \"pause\", \"exit\", \"goodbye\", \"bye\", \"later\")\n",
        "\n",
        "    # Define the random questions and corresponding responses\n",
        "    random_questions_responses = {\n",
        "        \"hi\":\"How are you doing today and how can I help you?\",\n",
        "        \"why are you here?\": \"I'm here to help you with your Synchrony credit queries.\",\n",
        "        \"What is Synchrony credit?\": \"Synchrony credit is a financial service offering credit options for various purchases, such as retail items, healthcare services, and more.\",\n",
        "        \"how to apply for synchrony credit?\": \"You can apply for Synchrony credit online or at participating stores. The application process involves providing personal and financial information for credit evaluation.\",\n",
        "        \"synchrony credit interest rates?\": \"The interest rates for Synchrony credit vary based on your creditworthiness and the specifics of the credit plan you choose. For the most accurate information, please refer to your credit agreement or the terms of the specific offer.\",\n",
        "        \"annual fee for synchrony credit?\": \"Most Synchrony credit plans do not have an annual fee. However, it's advisable to review the specific terms and conditions of your credit plan for any applicable fees.\",\n",
        "        \"making a payment on synchrony credit\": \"Payments can be made online through the Synchrony bank website, by mail, or over the phone. Setting up an online account can simplify and expedite the payment process.\",\n",
        "        \"autopay for synchrony credit\": \"Yes, you can set up automatic payments by logging into your Synchrony bank account online and arranging for recurring payments. This ensures timely payments and convenience.\",\n",
        "        \"credit limit determination\": \"Your credit limit with Synchrony is determined based on factors such as your credit history, income, and the specifics of the credit plan you are applying for.\",\n",
        "        \"increase synchrony credit limit\": \"To request an increase in your credit limit, you can contact Synchrony bank directly, either through their customer service line or via your online account. Approval will depend on your creditworthiness and account history.\",\n",
        "        \"lost synchrony credit card\": \"If your Synchrony credit card is lost or stolen, immediately contact Synchrony bank's customer service to report the issue and request a card replacement. Prompt reporting is important for your financial security.\",\n",
        "        \"synchrony credit promotions\": \"Synchrony offers various promotional deals depending on the retailer and the time of year. Check with participating retailers or visit the Synchrony bank website for the latest promotions and offers.\",\n",
        "        \"closing synchrony account\": \"To close your Synchrony credit account, contact Synchrony bank's customer service. It's important to understand that closing a credit account can impact your credit score.\",\n",
        "        \"dispute a charge on synchrony credit\": \"If you notice an unfamiliar charge on your Synchrony account, contact their customer service immediately to dispute the charge. Timely reporting is crucial for resolving such issues.\",\n",
        "        \"buy now pay later synchrony\": \"Synchrony's 'Buy Now, Pay Later' program allows you to make purchases and defer payments for a set period. This can be helpful for managing cash flow or for larger purchases. Terms and conditions, including interest implications, vary based on the retailer and offer.\",\n",
        "        \"split ticket feature\": \"\"\"The 'Split Ticket' feature from Synchrony enables you to split a large purchase into smaller, more manageable payments.\n",
        "        This can be particularly useful for expensive items, allowing for easier budgeting over time. Specific terms depend on the retailer and your credit agreement.\"\"\",\n",
        "        \"lend deeper program\": \"Synchrony's 'Lend Deeper' program is designed to provide more flexible credit options to customers, even those with less-than-perfect credit histories. This program may offer higher credit limits or more lenient terms, depending on the individual's creditworthiness and other factors.\",\n",
        "        \"synchrony deferred interest program\": \"Synchrony's deferred interest program allows you to avoid paying interest if you pay off your purchase in full by the end of the promotional period. It's important to pay off the balance within this period to avoid being charged accumulated interest.\",\n",
        "        \"synchrony zero percent financing\": \"Zero percent financing offers from Synchrony allow you to make purchases without paying any interest for a specific period. This can be a cost-effective way to make larger purchases, but it's important to pay off the balance before the promotional period ends to avoid interest charges.\",\n",
        "        \"synchrony special financing options\": \"Synchrony offers special financing options for various purchases, including electronics, home goods, and healthcare services. These plans often feature promotional terms like reduced interest rates or deferred interest for a set period.\",\n",
        "        \"ty\":\"Is there anything else I can help you with?\",\n",
        "        \"thankyou\":\"Is there anything ,I can help you with?\",\n",
        "        \"no thanks\":\"I am happy to help have a wonderful day\",\n",
        "    }\n",
        "\n",
        "    def __init__(self):\n",
        "        self.greeted = False  # To check if the user is already greeted\n",
        "\n",
        "    def greet(self):\n",
        "        if not self.greeted:\n",
        "            print(\"Hi, I'm the SyncTalker, synchrony chat bot. I can help you with your Synchrony credit queries. Ask me a question!\")\n",
        "            self.greeted = True\n",
        "\n",
        "    def get_response(self, user_input):\n",
        "        if user_input.lower() in self.exit_commands:\n",
        "            print(\"Goodbye! Have a nice day.\")\n",
        "            return True  # Return True to indicate the conversation is over\n",
        "\n",
        "        for question, response in self.random_questions_responses.items():\n",
        "            if question in user_input.lower():\n",
        "                print(response)\n",
        "                return False\n",
        "\n",
        "        if user_input.lower() in self.negative_responses:\n",
        "            print(\"Sorry to hear that. How can I assist you further?\")\n",
        "        else:\n",
        "            print(\"I'm not sure how to respond to that. Could you ask something else?\")\n",
        "\n",
        "        return False\n",
        "\n",
        "    def start_chat(self):\n",
        "        self.greet()\n",
        "        exit_chat = False\n",
        "        while not exit_chat:\n",
        "            user_input = input(\"You: \")\n",
        "            exit_chat = self.get_response(user_input)\n",
        "\n",
        "# Create an instance of RuleBot and start the chat\n",
        "rule_bot = RuleBot()\n",
        "rule_bot.start_chat()\n"
      ],
      "metadata": {
        "colab": {
          "base_uri": "https://localhost:8080/"
        },
        "id": "qinqmSSYkPcQ",
        "outputId": "25e1191d-e182-4df8-dea4-8141e6a5fe00"
      },
      "execution_count": null,
      "outputs": [
        {
          "output_type": "stream",
          "name": "stdout",
          "text": [
            "Hi, I'm the SyncTalker, synchrony chat bot. I can help you with your Synchrony credit queries. Ask me a question!\n",
            "You: hi\n",
            "How are you doing today and how can I help you?\n",
            "You: split ticket feature\n",
            "The 'Split Ticket' feature from Synchrony enables you to split a large purchase into smaller, more manageable payments.\n",
            "        This can be particularly useful for expensive items, allowing for easier budgeting over time. Specific terms depend on the retailer and your credit agreement.\n",
            "You: ty\n",
            "Is there anything else I can help you with?\n",
            "You: no thanks\n",
            "I am happy to help have a wonderful day\n",
            "You: bye\n",
            "Goodbye! Have a nice day.\n"
          ]
        }
      ]
    }
  ]
}